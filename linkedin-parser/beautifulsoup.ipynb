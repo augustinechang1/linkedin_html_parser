{
 "cells": [
  {
   "cell_type": "code",
   "execution_count": 1,
   "metadata": {},
   "outputs": [],
   "source": [
    "import gzip\n",
    "import json\n",
    "from bs4 import BeautifulSoup\n",
    "import pandas as pd"
   ]
  },
  {
   "cell_type": "code",
   "execution_count": 2,
   "metadata": {},
   "outputs": [],
   "source": [
    "with gzip.open('linkedin_curaleaf.json.gz', \"rb\") as f:\n",
    "    content = json.loads(f.read())[\"content\"]\n",
    "\n",
    "# parse data\n",
    "soup = BeautifulSoup(content, 'html.parser')\n",
    "\n",
    "# list posts\n",
    "posts = soup.findAll('div', {'class': 'occludable-update ember-view'})"
   ]
  },
  {
   "cell_type": "code",
   "execution_count": 3,
   "metadata": {},
   "outputs": [],
   "source": [
    "def soupify(gz_file):\n",
    "    \n",
    "    # open file\n",
    "    with gzip.open(gz_file, \"rb\") as f:\n",
    "        content = json.loads(f.read())[\"content\"]\n",
    "    \n",
    "    # parse data\n",
    "    soup = BeautifulSoup(content, 'html.parser')\n",
    "    \n",
    "    # list posts\n",
    "    posts = soup.findAll('div', {'class': 'occludable-update ember-view'})\n",
    "    \n",
    "    df = pd.DataFrame()\n",
    "    \n",
    "    # iterate through each post and extract metadata\n",
    "    for index, x in enumerate(posts):\n",
    "\n",
    "        try:\n",
    "            \n",
    "            # views (video)\n",
    "            a = x.find('ul', {'class': 'social-details-social-counts ember-view'})\n",
    "            try:\n",
    "                views = a.findAll('button', {'class': 'social-details-social-counts__count-value t-12 t-black--light t-normal hoverable-link-text'})[-1].get_text().replace('\\n', '')\n",
    "            except:\n",
    "                views = None\n",
    "            \n",
    "            # post image\n",
    "            try:\n",
    "                image = x.find('button', {'class': 'feed-shared-image__image-link'}).find('img').get('src')\n",
    "            except:\n",
    "                image = None\n",
    "            \n",
    "            # post\n",
    "            post = x.find('div', {'class': 'feed-shared-update-v2__description-wrapper ember-view'}).get_text().replace('\\n', '')\n",
    "\n",
    "            # likes\n",
    "            likes = x.find('button', {'data-control-name': 'likes_count'}).get_text().replace('\\n', '')\n",
    "\n",
    "            # date\n",
    "            date = x.find('span', {'aria-hidden': 'true'}).get_text().replace('\\n', '')\n",
    "\n",
    "            # post id\n",
    "            try:\n",
    "                ids = x.find('div', {'class': 'feed-shared-update-v2 feed-shared-update-v2--minimal-padding relative full-height feed-shared-update-v2--e2e Elevation-2dp ember-view'}).get('data-urn').replace('\\n', '')\n",
    "            except:\n",
    "                ids = x.find('div', {'class': 'feed-shared-update-v2 feed-shared-update-v2--minimal-padding relative full-height Elevation-2dp ember-view'}).get('data-urn').replace('\\n', '')\n",
    "\n",
    "            # number of comments\n",
    "            try:\n",
    "                comment = x.find('button', {'data-control-name': 'comments_count'}).get_text().replace('\\n', '')\n",
    "            except:\n",
    "                comment = '0'\n",
    "            \n",
    "            # add comments\n",
    "            coment = []\n",
    "\n",
    "            try:\n",
    "                ido = x.findAll('a', {'class': 'tap-target comments-post-meta__actor-link ember-view'})\n",
    "                dates = x.findAll('time', {'class': 'comments-comment-item__timestamp t-12 t-black--light t-normal mr1'})\n",
    "                comment_text = x.findAll('p', {'class': 'comments-comment-item__main-content feed-shared-main-content--comment t-14 t-black t-normal feed-shared-main-content ember-view'})\n",
    "                username = x.findAll('span', {'class': 'comments-post-meta__name t-14 t-black t-bold'})\n",
    "                username_title = x.findAll('span', {'class': 'comments-post-meta__headline t-12 t-black--light t-normal'})\n",
    "                comment_like = x.findAll('div', {'class': 'comments-comment-social-bar display-flex ember-view'})\n",
    "                                    \n",
    "                for u,q,w,x,y,z in zip(comment_like, username_title, ido, username, dates, comment_text):\n",
    "                    try:\n",
    "                        a = u.find('button', {'data-control-name': \"comment_like_count\"}).find('span').get_text()\n",
    "                    except:\n",
    "                        a = '0'\n",
    "                    b = q.get_text().replace('\\n', '').strip()\n",
    "                    d = 'https://www.linkedin.com' + w.get('href')\n",
    "                    e = x.find('span').get_text()\n",
    "                    f = y.get_text()\n",
    "                    g = z.get_text()\n",
    "                    coment.append([a,b,d,e,f,g])\n",
    "                \n",
    "            except:\n",
    "                pass\n",
    "            \n",
    "            # append parsed data to dataframe\n",
    "            df = df.append(pd.DataFrame([{'views': views, 'posts': post, 'likes': likes, 'date': date, 'ids': ids, 'comment': comment, 'coment': coment, 'image': image}]))\n",
    "        except AttributeError:\n",
    "            pass\n",
    "    \n",
    "    # clean data\n",
    "    df = df[['ids', 'posts', 'date', 'likes', 'comment', 'views', 'coment', 'image']]\n",
    "    df.columns = ['ID', 'post', 'date', 'like', 'comment', 'view', 'coment', 'image']\n",
    "    df['ID'] = df.ID.str.split(':', expand = True)[3]\n",
    "    df['date'] = df.date.str.split(' ', expand = True)[0]\n",
    "    df['comment'] = df.comment.str.split(' ', expand = True)[0]\n",
    "    df['view'] = df['view'].apply(lambda x: x.split(' ')[0] if x[-2:] == 'ws' else None)\n",
    "    df.reset_index(drop=True, inplace=True)\n",
    "    \n",
    "    df = df.explode('coment')\n",
    "    df.reset_index(drop=True, inplace=True)\n",
    "    df1 = pd.DataFrame()\n",
    "    for i, row in df.iterrows():\n",
    "        df = pd.DataFrame([row.coment])\n",
    "        df['ID'] = row['ID']\n",
    "        df['post'] = row['post']\n",
    "        df['image'] = row['image']\n",
    "        df['date'] = row['date']\n",
    "        df['like'] = row['like']\n",
    "        df['comment'] = row['comment']\n",
    "        df['view'] = row['view']\n",
    "        df1 = df1.append(df)\n",
    "        \n",
    "    df1.columns = ['comment_like', 'comment_username_title','comment_bio', 'comment_username', 'comment_date', 'comment', 'post_id', 'post', 'image', 'post_date', 'post_like', 'post_comment', 'post_view']\n",
    "    df1['comment_like'] = df1.comment_like.str.split(' ', expand = True)[0]\n",
    "    df1 = df1[['post_id', 'post', 'post_date', 'post_like', 'post_comment', 'image', 'post_view', 'comment_username','comment_username_title', 'comment_bio', 'comment_date', 'comment', 'comment_like']]\n",
    "    df1.reset_index(drop=True, inplace=True)\n",
    "\n",
    "    return df1\n",
    "        "
   ]
  },
  {
   "cell_type": "code",
   "execution_count": 4,
   "metadata": {},
   "outputs": [],
   "source": [
    "pd.set_option('display.max_columns', None)\n",
    "pd.set_option('display.max_rows', None)"
   ]
  },
  {
   "cell_type": "code",
   "execution_count": 5,
   "metadata": {
    "scrolled": true
   },
   "outputs": [
    {
     "name": "stderr",
     "output_type": "stream",
     "text": [
      "/opt/anaconda3/lib/python3.7/site-packages/pandas/core/frame.py:7123: FutureWarning: Sorting because non-concatenation axis is not aligned. A future version\n",
      "of pandas will change to not sort by default.\n",
      "\n",
      "To accept the future behavior, pass 'sort=False'.\n",
      "\n",
      "To retain the current behavior and silence the warning, pass 'sort=True'.\n",
      "\n",
      "  sort=sort,\n"
     ]
    }
   ],
   "source": [
    "a = soupify('linkedin_curaleaf.json.gz')"
   ]
  },
  {
   "cell_type": "code",
   "execution_count": 6,
   "metadata": {},
   "outputs": [],
   "source": [
    "a.to_csv('final.csv', index=False)"
   ]
  }
 ],
 "metadata": {
  "kernelspec": {
   "display_name": "Python 3",
   "language": "python",
   "name": "python3"
  },
  "language_info": {
   "codemirror_mode": {
    "name": "ipython",
    "version": 3
   },
   "file_extension": ".py",
   "mimetype": "text/x-python",
   "name": "python",
   "nbconvert_exporter": "python",
   "pygments_lexer": "ipython3",
   "version": "3.7.4"
  }
 },
 "nbformat": 4,
 "nbformat_minor": 2
}
